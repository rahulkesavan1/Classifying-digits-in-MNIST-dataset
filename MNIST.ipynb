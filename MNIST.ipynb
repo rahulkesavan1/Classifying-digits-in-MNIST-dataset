{
 "cells": [
  {
   "cell_type": "code",
   "execution_count": 8,
   "metadata": {},
   "outputs": [],
   "source": [
    "import numpy as np\n",
    "import random\n",
    "import pandas as pd\n",
    "import matplotlib.pyplot as plt\n",
    "%matplotlib inline"
   ]
  },
  {
   "cell_type": "code",
   "execution_count": 9,
   "metadata": {},
   "outputs": [],
   "source": [
    "#Running the neural network file\n",
    "%run network.ipynb"
   ]
  },
  {
   "cell_type": "code",
   "execution_count": 10,
   "metadata": {},
   "outputs": [],
   "source": [
    "#Function to convert integer output to numpy vector output\n",
    "def vectorized_result(j):\n",
    "    e = np.zeros((10, 1))\n",
    "    e[j] = 1.0\n",
    "    return e"
   ]
  },
  {
   "cell_type": "code",
   "execution_count": 11,
   "metadata": {},
   "outputs": [],
   "source": [
    "#unpacking MNIST data\n",
    "with open(r'C:\\Users\\rahul\\Desktop\\Projects\\Neural Netowrks MNIST\\neural-networks-and-deep-learning-master\\data\\mnist.pkl', 'rb') as f:\n",
    "    tr_d, va_d, te_d = pd.read_pickle(f)"
   ]
  },
  {
   "cell_type": "code",
   "execution_count": 12,
   "metadata": {},
   "outputs": [],
   "source": [
    "training_inputs = [np.reshape(x, (784, 1)) for x in tr_d[0]]\n",
    "training_results = [vectorized_result(y) for y in tr_d[1]]\n",
    "training_data = list(zip(training_inputs, training_results))\n",
    "validation_inputs = [np.reshape(x, (784, 1)) for x in va_d[0]]\n",
    "validation_data = list(zip(validation_inputs, va_d[1]))\n",
    "test_inputs = [np.reshape(x, (784, 1)) for x in te_d[0]]\n",
    "test_data = list(zip(test_inputs, te_d[1]))"
   ]
  },
  {
   "cell_type": "code",
   "execution_count": 13,
   "metadata": {},
   "outputs": [],
   "source": [
    "#Initializing Network\n",
    "net = Network([784, 100, 10], cost = CrossEntropyCost)"
   ]
  },
  {
   "cell_type": "code",
   "execution_count": 14,
   "metadata": {},
   "outputs": [
    {
     "name": "stderr",
     "output_type": "stream",
     "text": [
      "C:\\Users\\rahul\\AppData\\Local\\Temp\\ipykernel_14884\\2113836832.py:2: RuntimeWarning: overflow encountered in exp\n",
      "  return 1/(1+np.exp(-z))\n"
     ]
    },
    {
     "name": "stdout",
     "output_type": "stream",
     "text": [
      "\n",
      " Epoch 0 completed\n"
     ]
    },
    {
     "name": "stderr",
     "output_type": "stream",
     "text": [
      "C:\\Users\\rahul\\AppData\\Local\\Temp\\ipykernel_14884\\2541421196.py:15: RuntimeWarning: divide by zero encountered in log\n",
      "  return np.sum(np.nan_to_num(-y*np.log(a)-(1-y)*np.log(1-a)))\n",
      "C:\\Users\\rahul\\AppData\\Local\\Temp\\ipykernel_14884\\2541421196.py:15: RuntimeWarning: invalid value encountered in multiply\n",
      "  return np.sum(np.nan_to_num(-y*np.log(a)-(1-y)*np.log(1-a)))\n"
     ]
    },
    {
     "name": "stdout",
     "output_type": "stream",
     "text": [
      "Cost on training data is: 2.516770388807242e+304\n",
      "Accuracy on training data is: 0.77136\n",
      "Cost on evaluation data is: 1.7976931348623158e+304\n",
      "Accuracy on evaluation data is: 0.7729\n",
      "\n",
      " Epoch 1 completed\n",
      "Cost on training data is: 1141.0557817329125\n",
      "Accuracy on training data is: 0.7941\n",
      "Cost on evaluation data is: 5698.4811956417225\n",
      "Accuracy on evaluation data is: 0.7962\n",
      "\n",
      " Epoch 2 completed\n",
      "Cost on training data is: 692.3258240558366\n",
      "Accuracy on training data is: 0.80448\n",
      "Cost on evaluation data is: 3456.2830183982114\n",
      "Accuracy on evaluation data is: 0.8044\n",
      "\n",
      " Epoch 3 completed\n",
      "Cost on training data is: 420.2895238116859\n",
      "Accuracy on training data is: 0.8135\n",
      "Cost on evaluation data is: 2096.675944372393\n",
      "Accuracy on evaluation data is: 0.8187\n",
      "\n",
      " Epoch 4 completed\n",
      "Cost on training data is: 255.31189361735596\n",
      "Accuracy on training data is: 0.82276\n",
      "Cost on evaluation data is: 1272.127453204787\n",
      "Accuracy on evaluation data is: 0.8225\n",
      "\n",
      " Epoch 5 completed\n",
      "Cost on training data is: 155.29839702559602\n",
      "Accuracy on training data is: 0.83192\n",
      "Cost on evaluation data is: 772.0752833385399\n",
      "Accuracy on evaluation data is: 0.8257\n",
      "\n",
      " Epoch 6 completed\n",
      "Cost on training data is: 94.4878804705916\n",
      "Accuracy on training data is: 0.85606\n",
      "Cost on evaluation data is: 468.65758941350435\n",
      "Accuracy on evaluation data is: 0.8491\n",
      "\n",
      " Epoch 7 completed\n",
      "Cost on training data is: 57.50670339176747\n",
      "Accuracy on training data is: 0.88654\n",
      "Cost on evaluation data is: 284.5166154890739\n",
      "Accuracy on evaluation data is: 0.8826\n",
      "\n",
      " Epoch 8 completed\n",
      "Cost on training data is: 35.12638589747837\n",
      "Accuracy on training data is: 0.90278\n",
      "Cost on evaluation data is: 172.9089983991256\n",
      "Accuracy on evaluation data is: 0.896\n",
      "\n",
      " Epoch 9 completed\n",
      "Cost on training data is: 21.45734740907568\n",
      "Accuracy on training data is: 0.92276\n",
      "Cost on evaluation data is: 105.1238636765796\n",
      "Accuracy on evaluation data is: 0.917\n",
      "\n",
      " Epoch 10 completed\n",
      "Cost on training data is: 13.174981046559356\n",
      "Accuracy on training data is: 0.93462\n",
      "Cost on evaluation data is: 64.02858741804633\n",
      "Accuracy on evaluation data is: 0.9286\n",
      "\n",
      " Epoch 11 completed\n",
      "Cost on training data is: 8.144576512324269\n",
      "Accuracy on training data is: 0.94124\n",
      "Cost on evaluation data is: 39.129084953087705\n",
      "Accuracy on evaluation data is: 0.9313\n",
      "\n",
      " Epoch 12 completed\n",
      "Cost on training data is: 5.070245721773325\n",
      "Accuracy on training data is: 0.9527\n",
      "Cost on evaluation data is: 24.000762061837435\n",
      "Accuracy on evaluation data is: 0.9435\n",
      "\n",
      " Epoch 13 completed\n",
      "Cost on training data is: 3.16260499379638\n",
      "Accuracy on training data is: 0.96552\n",
      "Cost on evaluation data is: 14.817094272184722\n",
      "Accuracy on evaluation data is: 0.9548\n",
      "\n",
      " Epoch 14 completed\n",
      "Cost on training data is: 2.020571615709304\n",
      "Accuracy on training data is: 0.972\n",
      "Cost on evaluation data is: 9.26469167869936\n",
      "Accuracy on evaluation data is: 0.9612\n",
      "\n",
      " Epoch 15 completed\n",
      "Cost on training data is: 1.38218772672693\n",
      "Accuracy on training data is: 0.9674\n",
      "Cost on evaluation data is: 5.975332465362579\n",
      "Accuracy on evaluation data is: 0.9564\n",
      "\n",
      " Epoch 16 completed\n",
      "Cost on training data is: 0.9701198542413585\n",
      "Accuracy on training data is: 0.97126\n",
      "Cost on evaluation data is: 3.9682500965933594\n",
      "Accuracy on evaluation data is: 0.9612\n",
      "\n",
      " Epoch 17 completed\n",
      "Cost on training data is: 0.6718384523390272\n",
      "Accuracy on training data is: 0.97978\n",
      "Cost on evaluation data is: 2.725523129345157\n",
      "Accuracy on evaluation data is: 0.9684\n",
      "\n",
      " Epoch 18 completed\n",
      "Cost on training data is: 0.5198228085015191\n",
      "Accuracy on training data is: 0.9811\n",
      "Cost on evaluation data is: 2.010546641700917\n",
      "Accuracy on evaluation data is: 0.9694\n",
      "\n",
      " Epoch 19 completed\n",
      "Cost on training data is: 0.4292241793741586\n",
      "Accuracy on training data is: 0.97956\n",
      "Cost on evaluation data is: 1.577930977906761\n",
      "Accuracy on evaluation data is: 0.9689\n",
      "\n",
      " Epoch 20 completed\n",
      "Cost on training data is: 0.375862771691428\n",
      "Accuracy on training data is: 0.9823\n",
      "Cost on evaluation data is: 1.3282754638367047\n",
      "Accuracy on evaluation data is: 0.9714\n",
      "\n",
      " Epoch 21 completed\n",
      "Cost on training data is: 0.44876743015256115\n",
      "Accuracy on training data is: 0.9623\n",
      "Cost on evaluation data is: 1.2839043136751935\n",
      "Accuracy on evaluation data is: 0.9515\n",
      "\n",
      " Epoch 22 completed\n",
      "Cost on training data is: 0.31318379988280476\n",
      "Accuracy on training data is: 0.98422\n",
      "Cost on evaluation data is: 1.0636647048505388\n",
      "Accuracy on evaluation data is: 0.9739\n",
      "\n",
      " Epoch 23 completed\n",
      "Cost on training data is: 0.3132563673639217\n",
      "Accuracy on training data is: 0.9839\n",
      "Cost on evaluation data is: 1.0299138685988414\n",
      "Accuracy on evaluation data is: 0.9729\n",
      "\n",
      " Epoch 24 completed\n",
      "Cost on training data is: 0.3031605601350449\n",
      "Accuracy on training data is: 0.9837\n",
      "Cost on evaluation data is: 0.9895378526537457\n",
      "Accuracy on evaluation data is: 0.9727\n",
      "\n",
      " Epoch 25 completed\n",
      "Cost on training data is: 0.29889834488981326\n",
      "Accuracy on training data is: 0.983\n",
      "Cost on evaluation data is: 0.9712089771254953\n",
      "Accuracy on evaluation data is: 0.9715\n",
      "\n",
      " Epoch 26 completed\n",
      "Cost on training data is: 0.28080815912107554\n",
      "Accuracy on training data is: 0.98554\n",
      "Cost on evaluation data is: 0.9433856342798245\n",
      "Accuracy on evaluation data is: 0.9741\n",
      "\n",
      " Epoch 27 completed\n",
      "Cost on training data is: 0.275619961672257\n",
      "Accuracy on training data is: 0.98568\n",
      "Cost on evaluation data is: 0.9369255026732873\n",
      "Accuracy on evaluation data is: 0.9734\n",
      "\n",
      " Epoch 28 completed\n",
      "Cost on training data is: 0.27839857585212835\n",
      "Accuracy on training data is: 0.98632\n",
      "Cost on evaluation data is: 0.9308006474876024\n",
      "Accuracy on evaluation data is: 0.9757\n",
      "\n",
      " Epoch 29 completed\n",
      "Cost on training data is: 0.2798608896493473\n",
      "Accuracy on training data is: 0.98602\n",
      "Cost on evaluation data is: 0.9283132728381684\n",
      "Accuracy on evaluation data is: 0.9758\n"
     ]
    }
   ],
   "source": [
    "#Implimenting stochastic gradient descent using a cross entropy cost, L2 regularisation and monitoring accuracies and costs on training and evaluation data\n",
    "evaluation_cost, evaluation_accuracy, training_cost, training_accuracy = net.SGD(training_data, 30, 10, 0.5, lmbda = 5.0, evaluation_data = test_data, monitor_evaluation_accuracy=True, monitor_evaluation_cost=True, monitor_training_accuracy=True, monitor_training_cost=True)"
   ]
  },
  {
   "cell_type": "code",
   "execution_count": 16,
   "metadata": {},
   "outputs": [
    {
     "data": {
      "text/plain": [
       "<matplotlib.legend.Legend at 0x27747bac710>"
      ]
     },
     "execution_count": 16,
     "metadata": {},
     "output_type": "execute_result"
    },
    {
     "data": {
      "image/png": "[encoded data removed]",
      "text/plain": [
       "<Figure size 1000x500 with 1 Axes>"
      ]
     },
     "metadata": {},
     "output_type": "display_data"
    }
   ],
   "source": [
    "fig = plt.figure(figsize=(10,5))\n",
    "plt.plot(range(30), training_accuracy)\n",
    "plt.plot(range(30), evaluation_accuracy)\n",
    "plt.xlabel('Epoch #')\n",
    "plt.ylabel('Percentage Accuracy')\n",
    "plt.title(\"Accuracy on training & Evaluation data during training\")\n",
    "plt.legend([\"Training Data\", \"Evaluation Data\"])"
   ]
  }
 ],
 "metadata": {
  "kernelspec": {
   "display_name": "Python 3",
   "language": "python",
   "name": "python3"
  },
  "language_info": {
   "codemirror_mode": {
    "name": "ipython",
    "version": 3
   },
   "file_extension": ".py",
   "mimetype": "text/x-python",
   "name": "python",
   "nbconvert_exporter": "python",
   "pygments_lexer": "ipython3",
   "version": "3.11.2"
  },
  "orig_nbformat": 4
 },
 "nbformat": 4,
 "nbformat_minor": 2
}
