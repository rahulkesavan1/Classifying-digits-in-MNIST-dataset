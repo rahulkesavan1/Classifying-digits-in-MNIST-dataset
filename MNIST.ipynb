{
 "cells": [
  {
   "cell_type": "code",
   "execution_count": 10,
   "metadata": {},
   "outputs": [],
   "source": [
    "import numpy as np\n",
    "import random\n",
    "import pandas as pd\n",
    "import matplotlib.pyplot as plt\n",
    "%matplotlib inline"
   ]
  },
  {
   "cell_type": "code",
   "execution_count": 2,
   "metadata": {},
   "outputs": [],
   "source": [
    "#Running the neural network file\n",
    "%run network.ipynb"
   ]
  },
  {
   "cell_type": "code",
   "execution_count": 3,
   "metadata": {},
   "outputs": [],
   "source": [
    "#Function to convert integer output to numpy vector output\n",
    "def vectorized_result(j):\n",
    "    e = np.zeros((10, 1))\n",
    "    e[j] = 1.0\n",
    "    return e"
   ]
  },
  {
   "cell_type": "code",
   "execution_count": 4,
   "metadata": {},
   "outputs": [],
   "source": [
    "#unpacking MNIST data\n",
    "with open(r'C:\\Users\\rahul\\Desktop\\Projects\\Neural Netowrks MNIST\\neural-networks-and-deep-learning-master\\data\\mnist.pkl', 'rb') as f:\n",
    "    tr_d, va_d, te_d = pd.read_pickle(f)"
   ]
  },
  {
   "cell_type": "code",
   "execution_count": 5,
   "metadata": {},
   "outputs": [],
   "source": [
    "training_inputs = [np.reshape(x, (784, 1)) for x in tr_d[0]]\n",
    "training_results = [vectorized_result(y) for y in tr_d[1]]\n",
    "training_data = list(zip(training_inputs, training_results))\n",
    "validation_inputs = [np.reshape(x, (784, 1)) for x in va_d[0]]\n",
    "validation_data = list(zip(validation_inputs, va_d[1]))\n",
    "test_inputs = [np.reshape(x, (784, 1)) for x in te_d[0]]\n",
    "test_data = list(zip(test_inputs, te_d[1]))"
   ]
  },
  {
   "cell_type": "code",
   "execution_count": 25,
   "metadata": {},
   "outputs": [],
   "source": [
    "#Initializing Network\n",
    "net = Network([784, 100, 10], cost = CrossEntropyCost)"
   ]
  },
  {
   "cell_type": "code",
   "execution_count": 26,
   "metadata": {},
   "outputs": [
    {
     "name": "stderr",
     "output_type": "stream",
     "text": [
      "C:\\Users\\rahul\\AppData\\Local\\Temp\\ipykernel_12580\\2113836832.py:2: RuntimeWarning: overflow encountered in exp\n",
      "  return 1/(1+np.exp(-z))\n"
     ]
    },
    {
     "name": "stdout",
     "output_type": "stream",
     "text": [
      "\n",
      " Epoch 0 completed\n"
     ]
    },
    {
     "name": "stderr",
     "output_type": "stream",
     "text": [
      "C:\\Users\\rahul\\AppData\\Local\\Temp\\ipykernel_12580\\2541421196.py:15: RuntimeWarning: divide by zero encountered in log\n",
      "  return np.sum(np.nan_to_num(-y*np.log(a)-(1-y)*np.log(1-a)))\n",
      "C:\\Users\\rahul\\AppData\\Local\\Temp\\ipykernel_12580\\2541421196.py:15: RuntimeWarning: invalid value encountered in multiply\n",
      "  return np.sum(np.nan_to_num(-y*np.log(a)-(1-y)*np.log(1-a)))\n"
     ]
    },
    {
     "name": "stdout",
     "output_type": "stream",
     "text": [
      "Cost on training data is: 1.7976931348623158e+304\n",
      "Accuracy on training data is: 0.7487\n",
      "Cost on evaluation data is: 3.5953862697246315e+304\n",
      "Accuracy on evaluation data is: 0.753\n",
      "\n",
      " Epoch 1 completed\n",
      "Cost on training data is: 1129.3596827780193\n",
      "Accuracy on training data is: 0.74824\n",
      "Cost on evaluation data is: 5639.1406356242505\n",
      "Accuracy on evaluation data is: 0.7526\n",
      "\n",
      " Epoch 2 completed\n",
      "Cost on training data is: 685.0933326673329\n",
      "Accuracy on training data is: 0.80322\n",
      "Cost on evaluation data is: 3420.192752250403\n",
      "Accuracy on evaluation data is: 0.8017\n",
      "\n",
      " Epoch 3 completed\n",
      "Cost on training data is: 416.144026685143\n",
      "Accuracy on training data is: 0.7789\n",
      "Cost on evaluation data is: 2075.0402508837574\n",
      "Accuracy on evaluation data is: 0.7805\n",
      "\n",
      " Epoch 4 completed\n",
      "Cost on training data is: 252.89384899038936\n",
      "Accuracy on training data is: 0.7923\n",
      "Cost on evaluation data is: 1259.0861212970647\n",
      "Accuracy on evaluation data is: 0.7942\n",
      "\n",
      " Epoch 5 completed\n",
      "Cost on training data is: 153.69005251356788\n",
      "Accuracy on training data is: 0.83106\n",
      "Cost on evaluation data is: 764.0361618082934\n",
      "Accuracy on evaluation data is: 0.8302\n",
      "\n",
      " Epoch 6 completed\n",
      "Cost on training data is: 93.68069325380507\n",
      "Accuracy on training data is: 0.83142\n",
      "Cost on evaluation data is: 463.9184629032744\n",
      "Accuracy on evaluation data is: 0.8305\n",
      "\n",
      " Epoch 7 completed\n",
      "Cost on training data is: 57.04374145037074\n",
      "Accuracy on training data is: 0.87294\n",
      "Cost on evaluation data is: 281.6795491189362\n",
      "Accuracy on evaluation data is: 0.8689\n",
      "\n",
      " Epoch 8 completed\n",
      "Cost on training data is: 34.780008949963246\n",
      "Accuracy on training data is: 0.8982\n",
      "Cost on evaluation data is: 171.11728558205854\n",
      "Accuracy on evaluation data is: 0.8923\n",
      "\n",
      " Epoch 9 completed\n",
      "Cost on training data is: 21.33946844965551\n",
      "Accuracy on training data is: 0.90872\n",
      "Cost on evaluation data is: 104.13959955511129\n",
      "Accuracy on evaluation data is: 0.9013\n",
      "\n",
      " Epoch 10 completed\n",
      "Cost on training data is: 13.17431613176665\n",
      "Accuracy on training data is: 0.91646\n",
      "Cost on evaluation data is: 63.502148700783074\n",
      "Accuracy on evaluation data is: 0.9086\n",
      "\n",
      " Epoch 11 completed\n",
      "Cost on training data is: 8.072404011766384\n",
      "Accuracy on training data is: 0.9426\n",
      "Cost on evaluation data is: 38.72456517087847\n",
      "Accuracy on evaluation data is: 0.9342\n",
      "\n",
      " Epoch 12 completed\n",
      "Cost on training data is: 5.0208691946462185\n",
      "Accuracy on training data is: 0.95224\n",
      "Cost on evaluation data is: 23.76357239041826\n",
      "Accuracy on evaluation data is: 0.942\n",
      "\n",
      " Epoch 13 completed\n",
      "Cost on training data is: 3.162167091007874\n",
      "Accuracy on training data is: 0.96134\n",
      "Cost on evaluation data is: 14.696212500710736\n",
      "Accuracy on evaluation data is: 0.952\n",
      "\n",
      " Epoch 14 completed\n",
      "Cost on training data is: 2.0699856969154657\n",
      "Accuracy on training data is: 0.96296\n",
      "Cost on evaluation data is: 9.263764927796977\n",
      "Accuracy on evaluation data is: 0.951\n",
      "\n",
      " Epoch 15 completed\n",
      "Cost on training data is: 1.3243327540494194\n",
      "Accuracy on training data is: 0.97402\n",
      "Cost on evaluation data is: 5.890415858364069\n",
      "Accuracy on evaluation data is: 0.9635\n",
      "\n",
      " Epoch 16 completed\n",
      "Cost on training data is: 0.907964769348423\n",
      "Accuracy on training data is: 0.97866\n",
      "Cost on evaluation data is: 3.8988017809298343\n",
      "Accuracy on evaluation data is: 0.9675\n",
      "\n",
      " Epoch 17 completed\n",
      "Cost on training data is: 0.6732100614360588\n",
      "Accuracy on training data is: 0.97808\n",
      "Cost on evaluation data is: 2.7231150768774\n",
      "Accuracy on evaluation data is: 0.9681\n",
      "\n",
      " Epoch 18 completed\n",
      "Cost on training data is: 0.5541329410944611\n",
      "Accuracy on training data is: 0.9766\n",
      "Cost on evaluation data is: 2.038669216491076\n",
      "Accuracy on evaluation data is: 0.966\n",
      "\n",
      " Epoch 19 completed\n",
      "Cost on training data is: 0.41579419804301987\n",
      "Accuracy on training data is: 0.9834\n",
      "Cost on evaluation data is: 1.5729245007608363\n",
      "Accuracy on evaluation data is: 0.9717\n",
      "\n",
      " Epoch 20 completed\n",
      "Cost on training data is: 0.41246486180501063\n",
      "Accuracy on training data is: 0.97714\n",
      "Cost on evaluation data is: 1.3678105541647008\n",
      "Accuracy on evaluation data is: 0.9663\n",
      "\n",
      " Epoch 21 completed\n",
      "Cost on training data is: 0.3798229060591024\n",
      "Accuracy on training data is: 0.97828\n",
      "Cost on evaluation data is: 1.2137180604361246\n",
      "Accuracy on evaluation data is: 0.9675\n",
      "\n",
      " Epoch 22 completed\n",
      "Cost on training data is: 0.326569929642048\n",
      "Accuracy on training data is: 0.98256\n",
      "Cost on evaluation data is: 1.0830250327096098\n",
      "Accuracy on evaluation data is: 0.9716\n",
      "\n",
      " Epoch 23 completed\n",
      "Cost on training data is: 0.32675520782244494\n",
      "Accuracy on training data is: 0.98156\n",
      "Cost on evaluation data is: 1.0384900488346926\n",
      "Accuracy on evaluation data is: 0.9723\n",
      "\n",
      " Epoch 24 completed\n",
      "Cost on training data is: 0.32575296502179524\n",
      "Accuracy on training data is: 0.98094\n",
      "Cost on evaluation data is: 1.024551837212527\n",
      "Accuracy on evaluation data is: 0.9698\n",
      "\n",
      " Epoch 25 completed\n",
      "Cost on training data is: 0.3031267346566696\n",
      "Accuracy on training data is: 0.98188\n",
      "Cost on evaluation data is: 0.9758028937656138\n",
      "Accuracy on evaluation data is: 0.9725\n",
      "\n",
      " Epoch 26 completed\n",
      "Cost on training data is: 0.2972219658827907\n",
      "Accuracy on training data is: 0.98264\n",
      "Cost on evaluation data is: 0.9717766344911921\n",
      "Accuracy on evaluation data is: 0.9728\n",
      "\n",
      " Epoch 27 completed\n",
      "Cost on training data is: 0.34551253969623585\n",
      "Accuracy on training data is: 0.9767\n",
      "Cost on evaluation data is: 1.0048781551566914\n",
      "Accuracy on evaluation data is: 0.966\n",
      "\n",
      " Epoch 28 completed\n",
      "Cost on training data is: 0.2848043442992778\n",
      "Accuracy on training data is: 0.98436\n",
      "Cost on evaluation data is: 0.9397936265687082\n",
      "Accuracy on evaluation data is: 0.9727\n",
      "\n",
      " Epoch 29 completed\n",
      "Cost on training data is: 0.26626782802273674\n",
      "Accuracy on training data is: 0.98718\n",
      "Cost on evaluation data is: 0.9208383300263523\n",
      "Accuracy on evaluation data is: 0.9746\n"
     ]
    }
   ],
   "source": [
    "#Implimenting stochastic gradient descent using a cross entropy cost, L2 regularisation and monitoring accuracies and costs on training and evaluation data\n",
    "evaluation_cost, evaluation_accuracy, training_cost, training_accuracy = net.SGD(training_data, 30, 10, 0.5, lmbda = 5.0, evaluation_data = test_data, monitor_evaluation_accuracy=True, monitor_evaluation_cost=True, monitor_training_accuracy=True, monitor_training_cost=True)"
   ]
  },
  {
   "cell_type": "code",
   "execution_count": 24,
   "metadata": {},
   "outputs": [
    {
     "data": {
      "text/plain": [
       "<matplotlib.legend.Legend at 0x1249ff53750>"
      ]
     },
     "execution_count": 24,
     "metadata": {},
     "output_type": "execute_result"
    },
    {
     "data": {
      "image/png": "[encoded data removed]",
      "text/plain": [
       "<Figure size 1000x500 with 1 Axes>"
      ]
     },
     "metadata": {},
     "output_type": "display_data"
    }
   ],
   "source": [
    "fig = plt.figure(figsize=(10,5))\n",
    "plt.plot(range(30), training_accuracy)\n",
    "plt.plot(range(30), evaluation_accuracy)\n",
    "plt.xlabel('Epoch #')\n",
    "plt.ylabel('Percentage Accuracy')\n",
    "plt.title(\"Accuracy on training & Evaluation data during training\")\n",
    "plt.legend([\"Training Data\", \"Evaluation Data\"])"
   ]
  }
 ],
 "metadata": {
  "kernelspec": {
   "display_name": "Python 3",
   "language": "python",
   "name": "python3"
  },
  "language_info": {
   "codemirror_mode": {
    "name": "ipython",
    "version": 3
   },
   "file_extension": ".py",
   "mimetype": "text/x-python",
   "name": "python",
   "nbconvert_exporter": "python",
   "pygments_lexer": "ipython3",
   "version": "3.11.2"
  },
  "orig_nbformat": 4
 },
 "nbformat": 4,
 "nbformat_minor": 2
}
